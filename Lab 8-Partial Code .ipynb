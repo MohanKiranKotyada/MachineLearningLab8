{
 "cells": [
  {
   "cell_type": "code",
   "execution_count": 23,
   "id": "0f955e16-eee6-4688-b3d5-83141d5b2318",
   "metadata": {},
   "outputs": [
    {
     "name": "stdout",
     "output_type": "stream",
     "text": [
      "      age  income student credit_rating buys_computer\n",
      "0    <=30    high      no          fair            no\n",
      "1    <=30    high      no     excellent            no\n",
      "2   31…40    high      no          fair           yes\n",
      "3     >40  medium      no          fair           yes\n",
      "4     >40     low     yes          fair           yes\n",
      "5     >40     low     yes     excellent            no\n",
      "6   31…40     low     yes     excellent           yes\n",
      "7    <=30  medium      no          fair            no\n",
      "8    <=30     low     yes          fair           yes\n",
      "9     >40  medium     yes          fair           yes\n",
      "10   <=30  medium     yes     excellent           yes\n",
      "11  31…40  medium      no     excellent           yes\n",
      "12  31…40    high     yes          fair           yes\n",
      "13    >40  medium      no     excellent            no\n"
     ]
    }
   ],
   "source": [
    "import pandas as pd\n",
    "data = [\n",
    "    {'age': '<=30', 'income': 'high', 'student': 'no', 'credit_rating': 'fair', 'buys_computer': 'no'},\n",
    "    {'age': '<=30', 'income': 'high', 'student': 'no', 'credit_rating': 'excellent', 'buys_computer': 'no'},\n",
    "    {'age': '31…40', 'income': 'high', 'student': 'no', 'credit_rating': 'fair', 'buys_computer': 'yes'},\n",
    "    {'age': '>40', 'income': 'medium', 'student': 'no', 'credit_rating': 'fair', 'buys_computer': 'yes'},\n",
    "    {'age': '>40', 'income': 'low', 'student': 'yes', 'credit_rating': 'fair', 'buys_computer': 'yes'},\n",
    "    {'age': '>40', 'income': 'low', 'student': 'yes', 'credit_rating': 'excellent', 'buys_computer': 'no'},\n",
    "    {'age': '31…40', 'income': 'low', 'student': 'yes', 'credit_rating': 'excellent', 'buys_computer': 'yes'},\n",
    "    {'age': '<=30', 'income': 'medium', 'student': 'no', 'credit_rating': 'fair', 'buys_computer': 'no'},\n",
    "    {'age': '<=30', 'income': 'low', 'student': 'yes', 'credit_rating': 'fair', 'buys_computer': 'yes'},\n",
    "    {'age': '>40', 'income': 'medium', 'student': 'yes', 'credit_rating': 'fair', 'buys_computer': 'yes'},\n",
    "    {'age': '<=30', 'income': 'medium', 'student': 'yes', 'credit_rating': 'excellent', 'buys_computer': 'yes'},\n",
    "    {'age': '31…40', 'income': 'medium', 'student': 'no', 'credit_rating': 'excellent', 'buys_computer': 'yes'},\n",
    "    {'age': '31…40', 'income': 'high', 'student': 'yes', 'credit_rating': 'fair', 'buys_computer': 'yes'},\n",
    "    {'age': '>40', 'income': 'medium', 'student': 'no', 'credit_rating': 'excellent', 'buys_computer': 'no'}\n",
    "]\n",
    "\n",
    "df = pd.DataFrame(data)\n",
    "print(df)\n"
   ]
  },
  {
   "cell_type": "code",
   "execution_count": 28,
   "id": "39e86ecc-b700-410a-8e5e-af19126ee82c",
   "metadata": {},
   "outputs": [
    {
     "name": "stdout",
     "output_type": "stream",
     "text": [
      "Prior probabilities for each class:\n",
      "buys_computer\n",
      "yes    0.642857\n",
      "no     0.357143\n",
      "Name: count, dtype: float64\n"
     ]
    }
   ],
   "source": [
    "#A1\n",
    "class_counts = df['buys_computer'].value_counts()\n",
    "\n",
    "# Calculate the prior probabilities\n",
    "total_instances = len(df)\n",
    "priors = class_counts / total_instances\n",
    "\n",
    "# Displaying the prior probabilities\n",
    "print(\"Prior probabilities for each class:\")\n",
    "print(priors)"
   ]
  },
  {
   "cell_type": "code",
   "execution_count": 25,
   "id": "ca85012c-535b-4f7f-946c-b15fd7e157a4",
   "metadata": {},
   "outputs": [
    {
     "name": "stdout",
     "output_type": "stream",
     "text": [
      "Class conditional densities for each feature and class:\n",
      "\n",
      "Feature: age\n",
      "buys_computer  age  \n",
      "no             <=30     0.600000\n",
      "               >40      0.400000\n",
      "yes            31…40    0.444444\n",
      "               <=30     0.222222\n",
      "               >40      0.333333\n",
      "dtype: float64\n",
      "\n",
      "Feature: income\n",
      "buys_computer  income\n",
      "no             high      0.400000\n",
      "               low       0.200000\n",
      "               medium    0.400000\n",
      "yes            high      0.222222\n",
      "               low       0.333333\n",
      "               medium    0.444444\n",
      "dtype: float64\n",
      "\n",
      "Feature: student\n",
      "buys_computer  student\n",
      "no             no         0.800000\n",
      "               yes        0.200000\n",
      "yes            no         0.333333\n",
      "               yes        0.666667\n",
      "dtype: float64\n",
      "\n",
      "Feature: credit_rating\n",
      "buys_computer  credit_rating\n",
      "no             excellent        0.600000\n",
      "               fair             0.400000\n",
      "yes            excellent        0.333333\n",
      "               fair             0.666667\n",
      "dtype: float64\n"
     ]
    }
   ],
   "source": [
    "# List of features\n",
    "features = ['age', 'income', 'student', 'credit_rating']\n",
    "\n",
    "# Calculating class conditional densities for discrete features\n",
    "class_conditional_densities = {}\n",
    "for feature in features:\n",
    "    feature_conditional_densities = df.groupby(['buys_computer', feature]).size() / df.groupby('buys_computer').size()\n",
    "    class_conditional_densities[feature] = feature_conditional_densities\n",
    "\n",
    "# Displaying class conditional densities\n",
    "print(\"Class conditional densities for each feature and class:\")\n",
    "for feature, densities in class_conditional_densities.items():\n",
    "    print(f\"\\nFeature: {feature}\")\n",
    "    print(densities)"
   ]
  },
  {
   "cell_type": "code",
   "execution_count": 27,
   "id": "a1e18d80-b293-4278-9e14-e5dc72f53c29",
   "metadata": {},
   "outputs": [],
   "source": [
    "#A3 pending"
   ]
  },
  {
   "cell_type": "code",
   "execution_count": 21,
   "id": "bbba42ca-853c-44d1-8be8-1090be007ec1",
   "metadata": {},
   "outputs": [
    {
     "name": "stdout",
     "output_type": "stream",
     "text": [
      "Accuracy of the Naive Bayes classifier: 0.6666666666666666\n"
     ]
    }
   ],
   "source": [
    "#A4 \n",
    "import pandas as pd\n",
    "from sklearn.naive_bayes import GaussianNB\n",
    "from sklearn.model_selection import train_test_split\n",
    "from sklearn.preprocessing import LabelEncoder\n",
    "\n",
    "# Assuming you've created the DataFrame 'df' as shown before\n",
    "\n",
    "# Selecting features and target variable\n",
    "features = ['age', 'income', 'student', 'credit_rating']\n",
    "target = 'buys_computer'\n",
    "\n",
    "# Encoding categorical columns to numeric values\n",
    "df_encoded = df.copy()\n",
    "label_encoders = {}\n",
    "for feature in features + [target]:\n",
    "    label_encoders[feature] = LabelEncoder()\n",
    "    df_encoded[feature] = label_encoders[feature].fit_transform(df[feature])\n",
    "\n",
    "# Splitting data into features (X) and target variable (y)\n",
    "X = df_encoded[features]\n",
    "y = df_encoded[target]\n",
    "\n",
    "# Splitting data into training and testing sets (adjust test_size as needed)\n",
    "X_train, X_test, y_train, y_test = train_test_split(X, y, test_size=0.2, random_state=42)\n",
    "\n",
    "# Building and training the Naive Bayes classifier\n",
    "model = GaussianNB()\n",
    "model.fit(X_train, y_train)\n",
    "\n",
    "# Evaluating the model\n",
    "accuracy = model.score(X_test, y_test)\n",
    "print(f\"Accuracy of the Naive Bayes classifier: {accuracy}\")\n"
   ]
  },
  {
   "cell_type": "code",
   "execution_count": null,
   "id": "5c415f23-76c4-4a3d-960a-68a8cc5ff501",
   "metadata": {},
   "outputs": [],
   "source": []
  }
 ],
 "metadata": {
  "kernelspec": {
   "display_name": "Python 3 (ipykernel)",
   "language": "python",
   "name": "python3"
  },
  "language_info": {
   "codemirror_mode": {
    "name": "ipython",
    "version": 3
   },
   "file_extension": ".py",
   "mimetype": "text/x-python",
   "name": "python",
   "nbconvert_exporter": "python",
   "pygments_lexer": "ipython3",
   "version": "3.11.1"
  }
 },
 "nbformat": 4,
 "nbformat_minor": 5
}
