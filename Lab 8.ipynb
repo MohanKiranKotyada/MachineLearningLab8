{
 "cells": [
  {
   "cell_type": "code",
   "execution_count": 1,
   "id": "f031af48-2b02-4f7c-bc65-7db2f3441f23",
   "metadata": {},
   "outputs": [
    {
     "name": "stdout",
     "output_type": "stream",
     "text": [
      "      age  income student credit_rating buys_computer\n",
      "0    <=30    high      no          fair            no\n",
      "1    <=30    high      no     excellent            no\n",
      "2   31…40    high      no          fair           yes\n",
      "3     >40  medium      no          fair           yes\n",
      "4     >40     low     yes          fair           yes\n",
      "5     >40     low     yes     excellent            no\n",
      "6   31…40     low     yes     excellent           yes\n",
      "7    <=30  medium      no          fair            no\n",
      "8    <=30     low     yes          fair           yes\n",
      "9     >40  medium     yes          fair           yes\n",
      "10   <=30  medium     yes     excellent           yes\n",
      "11  31…40  medium      no     excellent           yes\n",
      "12  31…40    high     yes          fair           yes\n",
      "13    >40  medium      no     excellent            no\n"
     ]
    }
   ],
   "source": [
    "import pandas as pd\n",
    "data = [\n",
    "    {'age': '<=30', 'income': 'high', 'student': 'no', 'credit_rating': 'fair', 'buys_computer': 'no'},\n",
    "    {'age': '<=30', 'income': 'high', 'student': 'no', 'credit_rating': 'excellent', 'buys_computer': 'no'},\n",
    "    {'age': '31…40', 'income': 'high', 'student': 'no', 'credit_rating': 'fair', 'buys_computer': 'yes'},\n",
    "    {'age': '>40', 'income': 'medium', 'student': 'no', 'credit_rating': 'fair', 'buys_computer': 'yes'},\n",
    "    {'age': '>40', 'income': 'low', 'student': 'yes', 'credit_rating': 'fair', 'buys_computer': 'yes'},\n",
    "    {'age': '>40', 'income': 'low', 'student': 'yes', 'credit_rating': 'excellent', 'buys_computer': 'no'},\n",
    "    {'age': '31…40', 'income': 'low', 'student': 'yes', 'credit_rating': 'excellent', 'buys_computer': 'yes'},\n",
    "    {'age': '<=30', 'income': 'medium', 'student': 'no', 'credit_rating': 'fair', 'buys_computer': 'no'},\n",
    "    {'age': '<=30', 'income': 'low', 'student': 'yes', 'credit_rating': 'fair', 'buys_computer': 'yes'},\n",
    "    {'age': '>40', 'income': 'medium', 'student': 'yes', 'credit_rating': 'fair', 'buys_computer': 'yes'},\n",
    "    {'age': '<=30', 'income': 'medium', 'student': 'yes', 'credit_rating': 'excellent', 'buys_computer': 'yes'},\n",
    "    {'age': '31…40', 'income': 'medium', 'student': 'no', 'credit_rating': 'excellent', 'buys_computer': 'yes'},\n",
    "    {'age': '31…40', 'income': 'high', 'student': 'yes', 'credit_rating': 'fair', 'buys_computer': 'yes'},\n",
    "    {'age': '>40', 'income': 'medium', 'student': 'no', 'credit_rating': 'excellent', 'buys_computer': 'no'}\n",
    "]\n",
    "\n",
    "df = pd.DataFrame(data)\n",
    "print(df)"
   ]
  },
  {
   "cell_type": "code",
   "execution_count": 2,
   "id": "14c597f2-528f-4b73-9257-ee2467a40b73",
   "metadata": {},
   "outputs": [
    {
     "name": "stdout",
     "output_type": "stream",
     "text": [
      "Prior probabilities for each class:\n",
      "buys_computer\n",
      "yes    0.642857\n",
      "no     0.357143\n",
      "Name: count, dtype: float64\n"
     ]
    }
   ],
   "source": [
    "#A1\n",
    "class_counts = df['buys_computer'].value_counts()\n",
    "\n",
    "# Calculate the prior probabilities\n",
    "total_instances = len(df)\n",
    "priors = class_counts / total_instances\n",
    "\n",
    "# Displaying the prior probabilities\n",
    "print(\"Prior probabilities for each class:\")\n",
    "print(priors)"
   ]
  },
  {
   "cell_type": "code",
   "execution_count": 3,
   "id": "ecbbf620-c45d-4e67-a594-9d2dd069a8da",
   "metadata": {},
   "outputs": [
    {
     "name": "stdout",
     "output_type": "stream",
     "text": [
      "Class conditional densities for each feature and class:\n",
      "\n",
      "Feature: age\n",
      "buys_computer  age  \n",
      "no             <=30     0.600000\n",
      "               >40      0.400000\n",
      "yes            31…40    0.444444\n",
      "               <=30     0.222222\n",
      "               >40      0.333333\n",
      "dtype: float64\n",
      "\n",
      "Feature: income\n",
      "buys_computer  income\n",
      "no             high      0.400000\n",
      "               low       0.200000\n",
      "               medium    0.400000\n",
      "yes            high      0.222222\n",
      "               low       0.333333\n",
      "               medium    0.444444\n",
      "dtype: float64\n",
      "\n",
      "Feature: student\n",
      "buys_computer  student\n",
      "no             no         0.800000\n",
      "               yes        0.200000\n",
      "yes            no         0.333333\n",
      "               yes        0.666667\n",
      "dtype: float64\n",
      "\n",
      "Feature: credit_rating\n",
      "buys_computer  credit_rating\n",
      "no             excellent        0.600000\n",
      "               fair             0.400000\n",
      "yes            excellent        0.333333\n",
      "               fair             0.666667\n",
      "dtype: float64\n"
     ]
    }
   ],
   "source": [
    "\n",
    "\n",
    "# List of features\n",
    "features = ['age', 'income', 'student', 'credit_rating']\n",
    "\n",
    "# Calculating class conditional densities for discrete features\n",
    "class_conditional_densities = {}\n",
    "for feature in features:\n",
    "    feature_conditional_densities = df.groupby(['buys_computer', feature]).size() / df.groupby('buys_computer').size()\n",
    "    class_conditional_densities[feature] = feature_conditional_densities\n",
    "\n",
    "# Displaying class conditional densities\n",
    "print(\"Class conditional densities for each feature and class:\")\n",
    "for feature, densities in class_conditional_densities.items():\n",
    "    print(f\"\\nFeature: {feature}\")\n",
    "    print(densities)\n",
    "\n"
   ]
  },
  {
   "cell_type": "code",
   "execution_count": 8,
   "id": "2ffd6e46-3504-43d7-88f5-5e25b5b31a5c",
   "metadata": {},
   "outputs": [
    {
     "name": "stdout",
     "output_type": "stream",
     "text": [
      "Chi-squared test for independence between age and income:\n",
      "Chi2: 3.3249999999999997, p-value: 0.5049810026322079\n",
      "Conclusion: Independent\n",
      "\n",
      "Chi-squared test for independence between age and student:\n",
      "Chi2: 0.4, p-value: 0.8187307530779818\n",
      "Conclusion: Independent\n",
      "\n",
      "Chi-squared test for independence between age and credit_rating:\n",
      "Chi2: 0.11666666666666664, p-value: 0.9433354498734922\n",
      "Conclusion: Independent\n",
      "\n",
      "Chi-squared test for independence between income and age:\n",
      "Chi2: 3.325, p-value: 0.5049810026322077\n",
      "Conclusion: Independent\n",
      "\n",
      "Chi-squared test for independence between income and student:\n",
      "Chi2: 5.666666666666666, p-value: 0.0588164716424299\n",
      "Conclusion: Independent\n",
      "\n",
      "Chi-squared test for independence between income and credit_rating:\n",
      "Chi2: 0.7291666666666666, p-value: 0.6944859597510076\n",
      "Conclusion: Independent\n",
      "\n",
      "Chi-squared test for independence between student and age:\n",
      "Chi2: 0.4, p-value: 0.8187307530779818\n",
      "Conclusion: Independent\n",
      "\n",
      "Chi-squared test for independence between student and income:\n",
      "Chi2: 5.666666666666667, p-value: 0.05881647164242988\n",
      "Conclusion: Independent\n",
      "\n",
      "Chi-squared test for independence between student and credit_rating:\n",
      "Chi2: 0.0, p-value: 1.0\n",
      "Conclusion: Independent\n",
      "\n",
      "Chi-squared test for independence between credit_rating and age:\n",
      "Chi2: 0.11666666666666663, p-value: 0.9433354498734922\n",
      "Conclusion: Independent\n",
      "\n",
      "Chi-squared test for independence between credit_rating and income:\n",
      "Chi2: 0.7291666666666666, p-value: 0.6944859597510076\n",
      "Conclusion: Independent\n",
      "\n",
      "Chi-squared test for independence between credit_rating and student:\n",
      "Chi2: 0.0, p-value: 1.0\n",
      "Conclusion: Independent\n",
      "\n"
     ]
    }
   ],
   "source": [
    "#A3\n",
    "from scipy.stats import chi2_contingency\n",
    "categorical_features = ['age', 'income', 'student', 'credit_rating']\n",
    "for feature1 in categorical_features:\n",
    "    for feature2 in categorical_features:\n",
    "        if feature1 != feature2:\n",
    "            contingency_table = pd.crosstab(df[feature1], df[feature2])\n",
    "            chi2, p, _, _ = chi2_contingency(contingency_table)\n",
    "            print(f\"Chi-squared test for independence between {feature1} and {feature2}:\")\n",
    "            print(f\"Chi2: {chi2}, p-value: {p}\")\n",
    "            alpha = 0.05\n",
    "            if p <= alpha:\n",
    "              print(f\"Conclusion: Not Independent\\n\")\n",
    "            else:\n",
    "              print(f\"Conclusion: Independent\\n\")"
   ]
  },
  {
   "cell_type": "code",
   "execution_count": 9,
   "id": "15645e08-b84d-4868-abd4-eee381ddc6ab",
   "metadata": {},
   "outputs": [
    {
     "name": "stdout",
     "output_type": "stream",
     "text": [
      "Accuracy of the Naive Bayes classifier: 0.6666666666666666\n"
     ]
    }
   ],
   "source": [
    "#A4 \n",
    "import pandas as pd\n",
    "from sklearn.naive_bayes import GaussianNB\n",
    "from sklearn.model_selection import train_test_split\n",
    "from sklearn.preprocessing import LabelEncoder\n",
    "\n",
    "# Assuming you've created the DataFrame 'df' as shown before\n",
    "\n",
    "# Selecting features and target variable\n",
    "features = ['age', 'income', 'student', 'credit_rating']\n",
    "target = 'buys_computer'\n",
    "\n",
    "# Encoding categorical columns to numeric values\n",
    "df_encoded = df.copy()\n",
    "label_encoders = {}\n",
    "for feature in features + [target]:\n",
    "    label_encoders[feature] = LabelEncoder()\n",
    "    df_encoded[feature] = label_encoders[feature].fit_transform(df[feature])\n",
    "\n",
    "# Splitting data into features (X) and target variable (y)\n",
    "X = df_encoded[features]\n",
    "y = df_encoded[target]\n",
    "\n",
    "# Splitting data into training and testing sets (adjust test_size as needed)\n",
    "X_train, X_test, y_train, y_test = train_test_split(X, y, test_size=0.2, random_state=42)\n",
    "\n",
    "# Building and training the Naive Bayes classifier\n",
    "model = GaussianNB()\n",
    "model.fit(X_train, y_train)\n",
    "\n",
    "# Evaluating the model\n",
    "accuracy = model.score(X_test, y_test)\n",
    "print(f\"Accuracy of the Naive Bayes classifier: {accuracy}\")"
   ]
  },
  {
   "cell_type": "code",
   "execution_count": 10,
   "id": "8ae7f465-e358-4754-a899-b55cd4ed1618",
   "metadata": {},
   "outputs": [
    {
     "name": "stdout",
     "output_type": "stream",
     "text": [
      "Accuracy: 0.8605887162714636\n",
      "Confusion Matrix:\n",
      "[[ 966  119]\n",
      " [ 222 1139]]\n",
      "Classification Report:\n",
      "              precision    recall  f1-score   support\n",
      "\n",
      "          NO       0.81      0.89      0.85      1085\n",
      "         YES       0.91      0.84      0.87      1361\n",
      "\n",
      "    accuracy                           0.86      2446\n",
      "   macro avg       0.86      0.86      0.86      2446\n",
      "weighted avg       0.86      0.86      0.86      2446\n",
      "\n"
     ]
    }
   ],
   "source": [
    "#A5\n",
    "data=pd.read_csv('data.csv')\n",
    "from sklearn.model_selection import train_test_split\n",
    "from sklearn.feature_extraction.text import CountVectorizer\n",
    "from sklearn.naive_bayes import MultinomialNB\n",
    "from sklearn.metrics import accuracy_score, classification_report, confusion_matrix\n",
    "target_variable = 'YES/NO'\n",
    "X = data['comment_text']\n",
    "y = data[target_variable]\n",
    "X_train, X_test, y_train, y_test = train_test_split(X, y, test_size=0.2, random_state=42)\n",
    "vectorizer = CountVectorizer()\n",
    "X_train_vectorized = vectorizer.fit_transform(X_train)\n",
    "X_test_vectorized = vectorizer.transform(X_test)\n",
    "nb_model = MultinomialNB()\n",
    "nb_model.fit(X_train_vectorized, y_train)\n",
    "y_pred = nb_model.predict(X_test_vectorized)\n",
    "accuracy = accuracy_score(y_test, y_pred)\n",
    "conf_matrix = confusion_matrix(y_test, y_pred)\n",
    "classification_rep = classification_report(y_test, y_pred)\n",
    "print(f\"Accuracy: {accuracy}\")\n",
    "print(f\"Confusion Matrix:\\n{conf_matrix}\")\n",
    "print(f\"Classification Report:\\n{classification_rep}\")"
   ]
  },
  {
   "cell_type": "code",
   "execution_count": null,
   "id": "2b54dba4-add8-4e02-822b-ab008a341047",
   "metadata": {},
   "outputs": [],
   "source": []
  }
 ],
 "metadata": {
  "kernelspec": {
   "display_name": "Python 3 (ipykernel)",
   "language": "python",
   "name": "python3"
  },
  "language_info": {
   "codemirror_mode": {
    "name": "ipython",
    "version": 3
   },
   "file_extension": ".py",
   "mimetype": "text/x-python",
   "name": "python",
   "nbconvert_exporter": "python",
   "pygments_lexer": "ipython3",
   "version": "3.11.1"
  }
 },
 "nbformat": 4,
 "nbformat_minor": 5
}
